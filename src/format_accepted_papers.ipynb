{
 "cells": [
  {
   "cell_type": "code",
   "execution_count": 29,
   "metadata": {},
   "outputs": [],
   "source": [
    "import pandas as pd\n",
    "import numpy as np\n",
    "import re"
   ]
  },
  {
   "cell_type": "code",
   "execution_count": 16,
   "metadata": {},
   "outputs": [],
   "source": [
    "df = pd.read_csv(\"dynamic_decisions_papers.csv\")"
   ]
  },
  {
   "cell_type": "code",
   "execution_count": 49,
   "metadata": {},
   "outputs": [
    {
     "name": "stdout",
     "output_type": "stream",
     "text": [
      "* Large-scale Open Dataset and Pipeline for Bandit Algorithms. _Yuta Saito, Shunsuke Aihara, Megumi Matsutani, Yusuke Narita_.\n",
      "* [Optimal Policies for the Homogeneous Selective Labels Problem](https://arxiv.org/abs/2011.01381). _Dennis Wei_.\n",
      "* [Learning to Personalize Treatments When Agents Are Strategic](https://arxiv.org/abs/2011.06528). _Evan Munro_.\n",
      "* Social Choice with Changing Preferences: Representation Theorems and Long-Run Policies. _Kshitij Kulkarni, Sven Neth_.\n",
      "* How do fair decisions fare in long-term qualification? _Xueru Zhang, Ruibo Tu, Yang Liu, Hedvig Kjellström, Mingyan Liu, Kun Zhang, Cheng Zhang_.\n",
      "* [Classification under Human Assistance](https://arxiv.org/abs/2006.11845). _Abir De_.\n",
      "* Rebounding Bandits for Modeling Satiation Effects. _Liu Leqi, Fatma Kilinc-Karzan, Alan Montgomery, Zachary  Lipton_.\n",
      "* Do Offline Metrics Predict Online Performance in Recommender Systems? _Karl Krauth, Sarah Dean, Alex Zhao, Wenshuo Guo, Mihaela Curmei, Benjamin Recht, Michael Jordan_.\n",
      "* [Bandit Data-driven Optimization: AI for Social Good and Beyond](https://arxiv.org/abs/2008.11707). _Zheyuan Ryan Shi, Steven Wu, Rayid Ghani, Fei Fang_.\n",
      "* [Algorithmic Recourse: from Counterfactual Explanations to Interventions](https://arxiv.org/abs/2002.06278). _Amir-Hossein Karimi, Bernhard Schölkopf, Isabel Valera_.\n",
      "* Better Together? How Externalities of Size Complicate Notions of Solidarity and Actuarial Fairness. _Kathleen Donahue, Solon Barocas_.\n",
      "* [Fairness Under Partial Compliance](https://arxiv.org/abs/2011.03654). _Jessica Dai, Sina Fazelpour, Zachary  Lipton_.\n",
      "* [Exploration in two-stage recommender systems](https://arxiv.org/abs/2009.08956). _Jiri Hron, Karl Krauth, Michael Jordan, Niki Kilbertus_.\n",
      "* Performative Prediction in a Stateful World. _Gavin Brown, Shlomi Hod, Iden Kalemaj_.\n",
      "* Rankings for Two-Sided Market Platforms. _Yi Su, Thorsten Joachims_.\n",
      "* Near-optimal inference in adaptive linear regression. _Koulik Khamaru, Yash Deshpande, Lester Mackey, Martin Wainwright_.\n",
      "* [Optimizing Long-term Social Welfare in Recommender Systems](https://arxiv.org/abs/2008.00104). _Martin Mladenov, Elliot Creager, Omer Ben-Porat, Kevin Swersky, Richard Zemel, Craig Boutilier_.\n",
      "* Understanding and Measuring Income Shocks as a Precursors to Poverty. _Rediet Abebe, Jon Kleinberg, Andrew Wang_.\n",
      "* [Evaluating Model Robustness to Dataset Shift](https://arxiv.org/abs/2010.15100). _Adarsh Subbaswamy, Roy Adams, Suchi Saria_.\n",
      "* Echo Chambers in Collaborative Filtering Based Recommendation Systems. _Emil Noordeh, Roman Levin, Ruochen Jiang, Harris Shadmany_.\n",
      "* Strategic Recourse in Linear Classification. _Yatong Chen, Jialu Wang, Yang Liu_.\n",
      "* Label Bias, Label Shift: Fair Machine Learning with Unreliable Labels. _Jessica Dai, Sarah M Brown_.\n"
     ]
    }
   ],
   "source": [
    "for _, row in df.iterrows():\n",
    "    link = row[\"Camera ready link\"]\n",
    "    title = row[\"Paper Title\"]\n",
    "    raw_authors = row[\"Authors\"].strip()\n",
    "    if raw_authors:\n",
    "        raw_authors = raw_authors.split(\";\")\n",
    "    else:\n",
    "        raw_authors = [row[\"Primary Contact Author Name\"]]\n",
    "    authors = []\n",
    "    for author in raw_authors:\n",
    "        author = author.replace(\"*\", \"\")\n",
    "        author = re.sub(r'\\([^)]*\\)', \"\", author)\n",
    "        authors.append(author.strip())\n",
    "    authors = \", \".join(authors)\n",
    "    punc = \"\" if title[-1] == \"?\" else \".\"\n",
    "    if isinstance(link, float): # Link is nan\n",
    "        print(f\"* {title}{punc} {authors}.\")\n",
    "    else:\n",
    "        print(f\"* [{title}]({link}){punc} {authors}.\")"
   ]
  },
  {
   "cell_type": "code",
   "execution_count": null,
   "metadata": {},
   "outputs": [],
   "source": []
  }
 ],
 "metadata": {
  "kernelspec": {
   "display_name": "Python 3",
   "language": "python",
   "name": "python3"
  },
  "language_info": {
   "codemirror_mode": {
    "name": "ipython",
    "version": 3
   },
   "file_extension": ".py",
   "mimetype": "text/x-python",
   "name": "python",
   "nbconvert_exporter": "python",
   "pygments_lexer": "ipython3",
   "version": "3.7.9"
  }
 },
 "nbformat": 4,
 "nbformat_minor": 4
}
