{
 "cells": [
  {
   "cell_type": "code",
   "execution_count": 12,
   "metadata": {},
   "outputs": [],
   "source": [
    "import os\n",
    "import re\n",
    "\n",
    "import pandas as pd\n",
    "import numpy as np"
   ]
  },
  {
   "cell_type": "code",
   "execution_count": 13,
   "metadata": {},
   "outputs": [],
   "source": [
    "df = pd.read_csv(\"dynamic_decisions_papers.csv\")"
   ]
  },
  {
   "cell_type": "code",
   "execution_count": 18,
   "metadata": {},
   "outputs": [
    {
     "name": "stdout",
     "output_type": "stream",
     "text": [
      "* [Large-scale Open Dataset and Pipeline for Bandit Algorithms](/assets/pdfs/4.pdf). Yuta Saito, Shunsuke Aihara, Megumi Matsutani, Yusuke Narita.\n",
      "* [Optimal Policies for the Homogeneous Selective Labels Problem](https://arxiv.org/abs/2011.01381). Dennis Wei.\n",
      "* [Learning to Personalize Treatments When Agents Are Strategic](https://arxiv.org/abs/2011.06528). Evan Munro.\n",
      "* [Social Choice with Changing Preferences: Representation Theorems and Long-Run Policies](/assets/pdfs/7.pdf). Kshitij Kulkarni, Sven Neth.\n",
      "* [How do fair decisions fare in long-term qualification?](/assets/pdfs/8.pdf) Xueru Zhang, Ruibo Tu, Yang Liu, Hedvig Kjellström, Mingyan Liu, Kun Zhang, Cheng Zhang.\n",
      "* [Classification under Human Assistance](https://arxiv.org/abs/2006.11845). Abir De.\n",
      "* Rebounding Bandits for Modeling Satiation Effects. Liu Leqi, Fatma Kilinc-Karzan, Alan Montgomery, Zachary  Lipton.\n",
      "* [Do Offline Metrics Predict Online Performance in Recommender Systems?](/assets/pdfs/12.pdf) Karl Krauth, Sarah Dean, Alex Zhao, Wenshuo Guo, Mihaela Curmei, Benjamin Recht, Michael Jordan.\n",
      "* [Bandit Data-driven Optimization: AI for Social Good and Beyond](https://arxiv.org/abs/2008.11707). Zheyuan Ryan Shi, Steven Wu, Rayid Ghani, Fei Fang.\n",
      "* [Algorithmic Recourse: from Counterfactual Explanations to Interventions](https://arxiv.org/abs/2002.06278). Amir-Hossein Karimi, Bernhard Schölkopf, Isabel Valera.\n",
      "* Better Together? How Externalities of Size Complicate Notions of Solidarity and Actuarial Fairness. Kathleen Donahue, Solon Barocas.\n",
      "* [Fairness Under Partial Compliance](https://arxiv.org/abs/2011.03654). Jessica Dai, Sina Fazelpour, Zachary  Lipton.\n",
      "* [Exploration in two-stage recommender systems](https://arxiv.org/abs/2009.08956). Jiri Hron, Karl Krauth, Michael Jordan, Niki Kilbertus.\n",
      "* [Performative Prediction in a Stateful World](/assets/pdfs/20.pdf). Gavin Brown, Shlomi Hod, Iden Kalemaj.\n",
      "* Rankings for Two-Sided Market Platforms. Yi Su, Thorsten Joachims.\n",
      "* Near-optimal inference in adaptive linear regression. Koulik Khamaru, Yash Deshpande, Lester Mackey, Martin Wainwright.\n",
      "* [Optimizing Long-term Social Welfare in Recommender Systems](https://arxiv.org/abs/2008.00104). Martin Mladenov, Elliot Creager, Omer Ben-Porat, Kevin Swersky, Richard Zemel, Craig Boutilier.\n",
      "* Understanding and Measuring Income Shocks as a Precursors to Poverty. Rediet Abebe, Jon Kleinberg, Andrew Wang.\n",
      "* [Evaluating Model Robustness to Dataset Shift](https://arxiv.org/abs/2010.15100). Adarsh Subbaswamy, Roy Adams, Suchi Saria.\n",
      "* [Echo Chambers in Collaborative Filtering Based Recommendation Systems](/assets/pdfs/27.pdf). Emil Noordeh, Roman Levin, Ruochen Jiang, Harris Shadmany.\n",
      "* [Strategic Recourse in Linear Classification](/assets/pdfs/28.pdf). Yatong Chen, Jialu Wang, Yang Liu.\n",
      "* [Label Bias, Label Shift: Fair Machine Learning with Unreliable Labels](/assets/pdfs/29.pdf). Jessica Dai, Sarah M Brown.\n"
     ]
    }
   ],
   "source": [
    "for _, row in df.iterrows():\n",
    "    link = row[\"Camera ready link\"]\n",
    "    title = row[\"Paper Title\"]\n",
    "    raw_authors = row[\"Authors\"].strip()\n",
    "    if raw_authors:\n",
    "        raw_authors = raw_authors.split(\";\")\n",
    "    else:\n",
    "        raw_authors = [row[\"Primary Contact Author Name\"]]\n",
    "    authors = []\n",
    "    for author in raw_authors:\n",
    "        author = author.replace(\"*\", \"\")\n",
    "        author = re.sub(r'\\([^)]*\\)', \"\", author)\n",
    "        authors.append(author.strip())\n",
    "    authors = \", \".join(authors)\n",
    "    punc = \"\" if title[-1] == \"?\" else \".\"\n",
    "    if isinstance(link, float): # Link is nan\n",
    "        paper_id = row[\"Paper ID\"]\n",
    "        fname = f\"/assets/pdfs/{paper_id}.pdf\"\n",
    "        if os.path.isfile(\"..\" + fname):\n",
    "            link = fname\n",
    "        else:\n",
    "            assert row[\"Missing\"]\n",
    "            link = None\n",
    "        \n",
    "    if link is None:\n",
    "        print(f\"* {title}{punc} {authors}.\")\n",
    "    else:\n",
    "        print(f\"* [{title}]({link}){punc} {authors}.\")"
   ]
  },
  {
   "cell_type": "code",
   "execution_count": null,
   "metadata": {},
   "outputs": [],
   "source": []
  }
 ],
 "metadata": {
  "kernelspec": {
   "display_name": "Python 3",
   "language": "python",
   "name": "python3"
  },
  "language_info": {
   "codemirror_mode": {
    "name": "ipython",
    "version": 3
   },
   "file_extension": ".py",
   "mimetype": "text/x-python",
   "name": "python",
   "nbconvert_exporter": "python",
   "pygments_lexer": "ipython3",
   "version": "3.7.9"
  }
 },
 "nbformat": 4,
 "nbformat_minor": 4
}
